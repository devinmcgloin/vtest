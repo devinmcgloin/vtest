{
 "cells": [
  {
   "cell_type": "code",
   "execution_count": 2,
   "metadata": {
    "collapsed": false
   },
   "outputs": [],
   "source": [
    "import numpy as np\n",
    "import pandas as pd\n",
    "import matplotlib as mpl\n",
    "import matplotlib.pyplot as plt\n",
    "import seaborn as sns\n",
    "from io import StringIO\n",
    "import math\n",
    "%matplotlib inline"
   ]
  },
  {
   "cell_type": "code",
   "execution_count": 3,
   "metadata": {
    "collapsed": true
   },
   "outputs": [],
   "source": [
    "characters = \"abcdefghijklmnopqrstuvwxyzABCDEFGHIJKLMNOPQRSTUVWXYZ0123456789/\\|!@#$%^&*()_+=-{}[]~`\""
   ]
  },
  {
   "cell_type": "code",
   "execution_count": 4,
   "metadata": {
    "collapsed": true
   },
   "outputs": [],
   "source": [
    "def gen_seq(array, length, string=\"\"):\n",
    "    if len(string) == length:\n",
    "        array.append(string)\n",
    "    else:\n",
    "        for char in characters:\n",
    "            gen_seq(array, length, string+char)"
   ]
  },
  {
   "cell_type": "code",
   "execution_count": 5,
   "metadata": {
    "collapsed": false
   },
   "outputs": [
    {
     "name": "stdout",
     "output_type": "stream",
     "text": [
      "614125\n"
     ]
    }
   ],
   "source": [
    "arr = []\n",
    "gen_seq(arr,3)\n",
    "print(len(arr))\n",
    "arr.sort()"
   ]
  },
  {
   "cell_type": "code",
   "execution_count": 6,
   "metadata": {
    "collapsed": true
   },
   "outputs": [],
   "source": [
    "def funct(x):\n",
    "    return x.startswith(\"g\") or x.startswith(\"&\")"
   ]
  },
  {
   "cell_type": "code",
   "execution_count": 44,
   "metadata": {
    "collapsed": false
   },
   "outputs": [
    {
     "name": "stdout",
     "output_type": "stream",
     "text": [
      "12\n"
     ]
    }
   ],
   "source": [
    "def find_inflection(f, arr):\n",
    "    result = map(f, arr)\n",
    "    mod_ln = len(arr)/20\n",
    "    points = []\n",
    "    for i, item in enumerate(result):\n",
    "        if i == 0:\n",
    "            past = item\n",
    "        if item != past:\n",
    "            points.append(i-1)\n",
    "            points.append(i)\n",
    "            points.append(i+1)\n",
    "            past = item\n",
    "#         if i % mod_ln == 0:\n",
    "#             points.append(i)\n",
    "    return points\n",
    "\n",
    "inflect = find_inflection(funct, arr)\n",
    "print(len(inflect))"
   ]
  },
  {
   "cell_type": "code",
   "execution_count": 8,
   "metadata": {
    "collapsed": false
   },
   "outputs": [],
   "source": [
    "outp = []\n",
    "inp = []\n",
    "for index in inflect:\n",
    "    inp.append(arr[index])\n",
    "    if funct(arr[index]):\n",
    "        outp.append(1)\n",
    "    else:\n",
    "        outp.append(0)"
   ]
  },
  {
   "cell_type": "code",
   "execution_count": null,
   "metadata": {
    "collapsed": false
   },
   "outputs": [],
   "source": []
  },
  {
   "cell_type": "code",
   "execution_count": 9,
   "metadata": {
    "collapsed": false
   },
   "outputs": [],
   "source": [
    "df = pd.DataFrame({ 'input' : pd.Series(inp),\n",
    "                    'output' : pd.Series(outp)\n",
    "                  })"
   ]
  },
  {
   "cell_type": "code",
   "execution_count": 10,
   "metadata": {
    "collapsed": false
   },
   "outputs": [],
   "source": [
    "sns.set(style=\"whitegrid\", color_codes=True)"
   ]
  },
  {
   "cell_type": "code",
   "execution_count": 11,
   "metadata": {
    "collapsed": false
   },
   "outputs": [
    {
     "data": {
      "text/plain": [
       "<matplotlib.axes._subplots.AxesSubplot at 0x10fbe5668>"
      ]
     },
     "execution_count": 11,
     "metadata": {},
     "output_type": "execute_result"
    },
    {
     "data": {
      "image/png": "[encoded data removed]",
      "text/plain": [
       "<matplotlib.figure.Figure at 0x11208be48>"
      ]
     },
     "metadata": {},
     "output_type": "display_data"
    }
   ],
   "source": [
    "sns.stripplot(x=\"input\", y=\"output\", data=df, jitter=True)"
   ]
  },
  {
   "cell_type": "code",
   "execution_count": 12,
   "metadata": {
    "collapsed": false
   },
   "outputs": [],
   "source": [
    "out = []\n",
    "inpt = []\n",
    "\n",
    "for i in range(-50, 50, 5):\n",
    "    inpt.append(i)\n",
    "    out.append((math.pow(i, 3))/3)\n",
    "\n",
    "def graph_two(x, y):\n",
    "    df = pd.DataFrame({ 'input' : pd.Series(x),\n",
    "                    'output' : pd.Series(y)\n",
    "                  })\n",
    "    sns.set(style=\"whitegrid\", color_codes=True)\n",
    "    sns.stripplot(x=\"input\", y=\"output\", data=df, jitter=True)"
   ]
  },
  {
   "cell_type": "code",
   "execution_count": 13,
   "metadata": {
    "collapsed": false
   },
   "outputs": [
    {
     "data": {
      "image/png": "[encoded data removed]",
      "text/plain": [
       "<matplotlib.figure.Figure at 0x11230f940>"
      ]
     },
     "metadata": {},
     "output_type": "display_data"
    }
   ],
   "source": [
    "graph_two(inpt, out)"
   ]
  },
  {
   "cell_type": "code",
   "execution_count": 37,
   "metadata": {
    "collapsed": false
   },
   "outputs": [],
   "source": [
    "def complex_function(s):\n",
    "    if s[0:2] == s[2:4]: \n",
    "        return 0\n",
    "    elif s[0:2] < s[2:4]:\n",
    "        return 1\n",
    "    elif s[0:2] >= s[2:4]:\n",
    "        return -1"
   ]
  },
  {
   "cell_type": "code",
   "execution_count": 38,
   "metadata": {
    "collapsed": false
   },
   "outputs": [
    {
     "name": "stdout",
     "output_type": "stream",
     "text": [
      "52200625\n"
     ]
    }
   ],
   "source": [
    "arr = []\n",
    "gen_seq(arr,4)\n",
    "print(len(arr))\n",
    "arr.sort()"
   ]
  },
  {
   "cell_type": "code",
   "execution_count": 45,
   "metadata": {
    "collapsed": false
   },
   "outputs": [
    {
     "data": {
      "text/plain": [
       "65016"
      ]
     },
     "execution_count": 45,
     "metadata": {},
     "output_type": "execute_result"
    }
   ],
   "source": [
    "inflect = find_inflection(complex_function, arr)"
   ]
  },
  {
   "cell_type": "code",
   "execution_count": 50,
   "metadata": {
    "collapsed": false
   },
   "outputs": [
    {
     "name": "stdout",
     "output_type": "stream",
     "text": [
      "52200624\n"
     ]
    }
   ],
   "source": [
    "inflect = inflect[0:65015]\n",
    "print(inflect[-1])"
   ]
  },
  {
   "cell_type": "code",
   "execution_count": 51,
   "metadata": {
    "collapsed": false
   },
   "outputs": [],
   "source": [
    "outp = []\n",
    "inp = []\n",
    "for index in inflect:\n",
    "    inp.append(arr[index])\n",
    "    outp.append(complex_function(arr[index]))"
   ]
  },
  {
   "cell_type": "code",
   "execution_count": 52,
   "metadata": {
    "collapsed": true
   },
   "outputs": [],
   "source": [
    "df = pd.DataFrame({ 'input' : pd.Series(inp),\n",
    "                    'output' : pd.Series(outp)\n",
    "                  })"
   ]
  },
  {
   "cell_type": "code",
   "execution_count": 55,
   "metadata": {
    "collapsed": false
   },
   "outputs": [
    {
     "data": {
      "text/html": [
       "<div>\n",
       "<table border=\"1\" class=\"dataframe\">\n",
       "  <thead>\n",
       "    <tr style=\"text-align: right;\">\n",
       "      <th></th>\n",
       "      <th>input</th>\n",
       "      <th>output</th>\n",
       "    </tr>\n",
       "  </thead>\n",
       "  <tbody>\n",
       "    <tr>\n",
       "      <th>0</th>\n",
       "      <td>!!!!</td>\n",
       "      <td>0</td>\n",
       "    </tr>\n",
       "    <tr>\n",
       "      <th>1</th>\n",
       "      <td>!!!#</td>\n",
       "      <td>1</td>\n",
       "    </tr>\n",
       "    <tr>\n",
       "      <th>2</th>\n",
       "      <td>!!!$</td>\n",
       "      <td>1</td>\n",
       "    </tr>\n",
       "    <tr>\n",
       "      <th>3</th>\n",
       "      <td>!!~~</td>\n",
       "      <td>1</td>\n",
       "    </tr>\n",
       "    <tr>\n",
       "      <th>4</th>\n",
       "      <td>!#!!</td>\n",
       "      <td>-1</td>\n",
       "    </tr>\n",
       "    <tr>\n",
       "      <th>5</th>\n",
       "      <td>!#!#</td>\n",
       "      <td>0</td>\n",
       "    </tr>\n",
       "    <tr>\n",
       "      <th>6</th>\n",
       "      <td>!#!!</td>\n",
       "      <td>-1</td>\n",
       "    </tr>\n",
       "    <tr>\n",
       "      <th>7</th>\n",
       "      <td>!#!#</td>\n",
       "      <td>0</td>\n",
       "    </tr>\n",
       "    <tr>\n",
       "      <th>8</th>\n",
       "      <td>!#!$</td>\n",
       "      <td>1</td>\n",
       "    </tr>\n",
       "    <tr>\n",
       "      <th>9</th>\n",
       "      <td>!#!#</td>\n",
       "      <td>0</td>\n",
       "    </tr>\n",
       "    <tr>\n",
       "      <th>10</th>\n",
       "      <td>!#!$</td>\n",
       "      <td>1</td>\n",
       "    </tr>\n",
       "    <tr>\n",
       "      <th>11</th>\n",
       "      <td>!#!%</td>\n",
       "      <td>1</td>\n",
       "    </tr>\n",
       "    <tr>\n",
       "      <th>12</th>\n",
       "      <td>!#~~</td>\n",
       "      <td>1</td>\n",
       "    </tr>\n",
       "    <tr>\n",
       "      <th>13</th>\n",
       "      <td>!$!!</td>\n",
       "      <td>-1</td>\n",
       "    </tr>\n",
       "    <tr>\n",
       "      <th>14</th>\n",
       "      <td>!$!#</td>\n",
       "      <td>-1</td>\n",
       "    </tr>\n",
       "    <tr>\n",
       "      <th>15</th>\n",
       "      <td>!$!#</td>\n",
       "      <td>-1</td>\n",
       "    </tr>\n",
       "    <tr>\n",
       "      <th>16</th>\n",
       "      <td>!$!$</td>\n",
       "      <td>0</td>\n",
       "    </tr>\n",
       "    <tr>\n",
       "      <th>17</th>\n",
       "      <td>!$!%</td>\n",
       "      <td>1</td>\n",
       "    </tr>\n",
       "    <tr>\n",
       "      <th>18</th>\n",
       "      <td>!$!$</td>\n",
       "      <td>0</td>\n",
       "    </tr>\n",
       "    <tr>\n",
       "      <th>19</th>\n",
       "      <td>!$!%</td>\n",
       "      <td>1</td>\n",
       "    </tr>\n",
       "    <tr>\n",
       "      <th>20</th>\n",
       "      <td>!$!&amp;</td>\n",
       "      <td>1</td>\n",
       "    </tr>\n",
       "    <tr>\n",
       "      <th>21</th>\n",
       "      <td>!$~~</td>\n",
       "      <td>1</td>\n",
       "    </tr>\n",
       "    <tr>\n",
       "      <th>22</th>\n",
       "      <td>!%!!</td>\n",
       "      <td>-1</td>\n",
       "    </tr>\n",
       "    <tr>\n",
       "      <th>23</th>\n",
       "      <td>!%!#</td>\n",
       "      <td>-1</td>\n",
       "    </tr>\n",
       "    <tr>\n",
       "      <th>24</th>\n",
       "      <td>!%!$</td>\n",
       "      <td>-1</td>\n",
       "    </tr>\n",
       "    <tr>\n",
       "      <th>25</th>\n",
       "      <td>!%!%</td>\n",
       "      <td>0</td>\n",
       "    </tr>\n",
       "    <tr>\n",
       "      <th>26</th>\n",
       "      <td>!%!&amp;</td>\n",
       "      <td>1</td>\n",
       "    </tr>\n",
       "    <tr>\n",
       "      <th>27</th>\n",
       "      <td>!%!%</td>\n",
       "      <td>0</td>\n",
       "    </tr>\n",
       "    <tr>\n",
       "      <th>28</th>\n",
       "      <td>!%!&amp;</td>\n",
       "      <td>1</td>\n",
       "    </tr>\n",
       "    <tr>\n",
       "      <th>29</th>\n",
       "      <td>!%!(</td>\n",
       "      <td>1</td>\n",
       "    </tr>\n",
       "    <tr>\n",
       "      <th>...</th>\n",
       "      <td>...</td>\n",
       "      <td>...</td>\n",
       "    </tr>\n",
       "    <tr>\n",
       "      <th>64985</th>\n",
       "      <td>~{!#</td>\n",
       "      <td>-1</td>\n",
       "    </tr>\n",
       "    <tr>\n",
       "      <th>64986</th>\n",
       "      <td>~{~z</td>\n",
       "      <td>-1</td>\n",
       "    </tr>\n",
       "    <tr>\n",
       "      <th>64987</th>\n",
       "      <td>~{~{</td>\n",
       "      <td>0</td>\n",
       "    </tr>\n",
       "    <tr>\n",
       "      <th>64988</th>\n",
       "      <td>~{~|</td>\n",
       "      <td>1</td>\n",
       "    </tr>\n",
       "    <tr>\n",
       "      <th>64989</th>\n",
       "      <td>~{~{</td>\n",
       "      <td>0</td>\n",
       "    </tr>\n",
       "    <tr>\n",
       "      <th>64990</th>\n",
       "      <td>~{~|</td>\n",
       "      <td>1</td>\n",
       "    </tr>\n",
       "    <tr>\n",
       "      <th>64991</th>\n",
       "      <td>~{~}</td>\n",
       "      <td>1</td>\n",
       "    </tr>\n",
       "    <tr>\n",
       "      <th>64992</th>\n",
       "      <td>~{~~</td>\n",
       "      <td>1</td>\n",
       "    </tr>\n",
       "    <tr>\n",
       "      <th>64993</th>\n",
       "      <td>~|!!</td>\n",
       "      <td>-1</td>\n",
       "    </tr>\n",
       "    <tr>\n",
       "      <th>64994</th>\n",
       "      <td>~|!#</td>\n",
       "      <td>-1</td>\n",
       "    </tr>\n",
       "    <tr>\n",
       "      <th>64995</th>\n",
       "      <td>~|~{</td>\n",
       "      <td>-1</td>\n",
       "    </tr>\n",
       "    <tr>\n",
       "      <th>64996</th>\n",
       "      <td>~|~|</td>\n",
       "      <td>0</td>\n",
       "    </tr>\n",
       "    <tr>\n",
       "      <th>64997</th>\n",
       "      <td>~|~}</td>\n",
       "      <td>1</td>\n",
       "    </tr>\n",
       "    <tr>\n",
       "      <th>64998</th>\n",
       "      <td>~|~|</td>\n",
       "      <td>0</td>\n",
       "    </tr>\n",
       "    <tr>\n",
       "      <th>64999</th>\n",
       "      <td>~|~}</td>\n",
       "      <td>1</td>\n",
       "    </tr>\n",
       "    <tr>\n",
       "      <th>65000</th>\n",
       "      <td>~|~~</td>\n",
       "      <td>1</td>\n",
       "    </tr>\n",
       "    <tr>\n",
       "      <th>65001</th>\n",
       "      <td>~|~~</td>\n",
       "      <td>1</td>\n",
       "    </tr>\n",
       "    <tr>\n",
       "      <th>65002</th>\n",
       "      <td>~}!!</td>\n",
       "      <td>-1</td>\n",
       "    </tr>\n",
       "    <tr>\n",
       "      <th>65003</th>\n",
       "      <td>~}!#</td>\n",
       "      <td>-1</td>\n",
       "    </tr>\n",
       "    <tr>\n",
       "      <th>65004</th>\n",
       "      <td>~}~|</td>\n",
       "      <td>-1</td>\n",
       "    </tr>\n",
       "    <tr>\n",
       "      <th>65005</th>\n",
       "      <td>~}~}</td>\n",
       "      <td>0</td>\n",
       "    </tr>\n",
       "    <tr>\n",
       "      <th>65006</th>\n",
       "      <td>~}~~</td>\n",
       "      <td>1</td>\n",
       "    </tr>\n",
       "    <tr>\n",
       "      <th>65007</th>\n",
       "      <td>~}~}</td>\n",
       "      <td>0</td>\n",
       "    </tr>\n",
       "    <tr>\n",
       "      <th>65008</th>\n",
       "      <td>~}~~</td>\n",
       "      <td>1</td>\n",
       "    </tr>\n",
       "    <tr>\n",
       "      <th>65009</th>\n",
       "      <td>~~!!</td>\n",
       "      <td>-1</td>\n",
       "    </tr>\n",
       "    <tr>\n",
       "      <th>65010</th>\n",
       "      <td>~}~~</td>\n",
       "      <td>1</td>\n",
       "    </tr>\n",
       "    <tr>\n",
       "      <th>65011</th>\n",
       "      <td>~~!!</td>\n",
       "      <td>-1</td>\n",
       "    </tr>\n",
       "    <tr>\n",
       "      <th>65012</th>\n",
       "      <td>~~!#</td>\n",
       "      <td>-1</td>\n",
       "    </tr>\n",
       "    <tr>\n",
       "      <th>65013</th>\n",
       "      <td>~~~}</td>\n",
       "      <td>-1</td>\n",
       "    </tr>\n",
       "    <tr>\n",
       "      <th>65014</th>\n",
       "      <td>~~~~</td>\n",
       "      <td>0</td>\n",
       "    </tr>\n",
       "  </tbody>\n",
       "</table>\n",
       "<p>65015 rows × 2 columns</p>\n",
       "</div>"
      ],
      "text/plain": [
       "      input  output\n",
       "0      !!!!       0\n",
       "1      !!!#       1\n",
       "2      !!!$       1\n",
       "3      !!~~       1\n",
       "4      !#!!      -1\n",
       "5      !#!#       0\n",
       "6      !#!!      -1\n",
       "7      !#!#       0\n",
       "8      !#!$       1\n",
       "9      !#!#       0\n",
       "10     !#!$       1\n",
       "11     !#!%       1\n",
       "12     !#~~       1\n",
       "13     !$!!      -1\n",
       "14     !$!#      -1\n",
       "15     !$!#      -1\n",
       "16     !$!$       0\n",
       "17     !$!%       1\n",
       "18     !$!$       0\n",
       "19     !$!%       1\n",
       "20     !$!&       1\n",
       "21     !$~~       1\n",
       "22     !%!!      -1\n",
       "23     !%!#      -1\n",
       "24     !%!$      -1\n",
       "25     !%!%       0\n",
       "26     !%!&       1\n",
       "27     !%!%       0\n",
       "28     !%!&       1\n",
       "29     !%!(       1\n",
       "...     ...     ...\n",
       "64985  ~{!#      -1\n",
       "64986  ~{~z      -1\n",
       "64987  ~{~{       0\n",
       "64988  ~{~|       1\n",
       "64989  ~{~{       0\n",
       "64990  ~{~|       1\n",
       "64991  ~{~}       1\n",
       "64992  ~{~~       1\n",
       "64993  ~|!!      -1\n",
       "64994  ~|!#      -1\n",
       "64995  ~|~{      -1\n",
       "64996  ~|~|       0\n",
       "64997  ~|~}       1\n",
       "64998  ~|~|       0\n",
       "64999  ~|~}       1\n",
       "65000  ~|~~       1\n",
       "65001  ~|~~       1\n",
       "65002  ~}!!      -1\n",
       "65003  ~}!#      -1\n",
       "65004  ~}~|      -1\n",
       "65005  ~}~}       0\n",
       "65006  ~}~~       1\n",
       "65007  ~}~}       0\n",
       "65008  ~}~~       1\n",
       "65009  ~~!!      -1\n",
       "65010  ~}~~       1\n",
       "65011  ~~!!      -1\n",
       "65012  ~~!#      -1\n",
       "65013  ~~~}      -1\n",
       "65014  ~~~~       0\n",
       "\n",
       "[65015 rows x 2 columns]"
      ]
     },
     "execution_count": 55,
     "metadata": {},
     "output_type": "execute_result"
    }
   ],
   "source": [
    "df"
   ]
  },
  {
   "cell_type": "markdown",
   "metadata": {},
   "source": []
  }
 ],
 "metadata": {
  "kernelspec": {
   "display_name": "Python 3",
   "language": "python",
   "name": "python3"
  },
  "language_info": {
   "codemirror_mode": {
    "name": "ipython",
    "version": 3
   },
   "file_extension": ".py",
   "mimetype": "text/x-python",
   "name": "python",
   "nbconvert_exporter": "python",
   "pygments_lexer": "ipython3",
   "version": "3.5.1"
  }
 },
 "nbformat": 4,
 "nbformat_minor": 0
}
